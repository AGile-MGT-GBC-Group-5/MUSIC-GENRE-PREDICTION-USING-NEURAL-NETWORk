{
 "cells": [
  {
   "cell_type": "markdown",
   "id": "1b8e2068",
   "metadata": {},
   "source": [
    "<h4>Import Data"
   ]
  },
  {
   "cell_type": "code",
   "execution_count": 1,
   "id": "306989da",
   "metadata": {},
   "outputs": [],
   "source": [
    "import pandas as pd\n",
    "import numpy as np"
   ]
  },
  {
   "cell_type": "code",
   "execution_count": 2,
   "id": "d783bc4a",
   "metadata": {
    "scrolled": true
   },
   "outputs": [
    {
     "data": {
      "text/html": [
       "<div>\n",
       "<style scoped>\n",
       "    .dataframe tbody tr th:only-of-type {\n",
       "        vertical-align: middle;\n",
       "    }\n",
       "\n",
       "    .dataframe tbody tr th {\n",
       "        vertical-align: top;\n",
       "    }\n",
       "\n",
       "    .dataframe thead th {\n",
       "        text-align: right;\n",
       "    }\n",
       "</style>\n",
       "<table border=\"1\" class=\"dataframe\">\n",
       "  <thead>\n",
       "    <tr style=\"text-align: right;\">\n",
       "      <th></th>\n",
       "      <th>filename</th>\n",
       "      <th>length</th>\n",
       "      <th>chroma_stft_mean</th>\n",
       "      <th>chroma_stft_var</th>\n",
       "      <th>rms_mean</th>\n",
       "      <th>rms_var</th>\n",
       "      <th>spectral_centroid_mean</th>\n",
       "      <th>spectral_centroid_var</th>\n",
       "      <th>spectral_bandwidth_mean</th>\n",
       "      <th>spectral_bandwidth_var</th>\n",
       "      <th>...</th>\n",
       "      <th>mfcc16_var</th>\n",
       "      <th>mfcc17_mean</th>\n",
       "      <th>mfcc17_var</th>\n",
       "      <th>mfcc18_mean</th>\n",
       "      <th>mfcc18_var</th>\n",
       "      <th>mfcc19_mean</th>\n",
       "      <th>mfcc19_var</th>\n",
       "      <th>mfcc20_mean</th>\n",
       "      <th>mfcc20_var</th>\n",
       "      <th>label</th>\n",
       "    </tr>\n",
       "  </thead>\n",
       "  <tbody>\n",
       "    <tr>\n",
       "      <th>0</th>\n",
       "      <td>blues.00000.wav</td>\n",
       "      <td>661794</td>\n",
       "      <td>0.350088</td>\n",
       "      <td>0.088757</td>\n",
       "      <td>0.130228</td>\n",
       "      <td>0.002827</td>\n",
       "      <td>1784.165850</td>\n",
       "      <td>129774.064525</td>\n",
       "      <td>2002.449060</td>\n",
       "      <td>85882.761315</td>\n",
       "      <td>...</td>\n",
       "      <td>52.420910</td>\n",
       "      <td>-1.690215</td>\n",
       "      <td>36.524071</td>\n",
       "      <td>-0.408979</td>\n",
       "      <td>41.597103</td>\n",
       "      <td>-2.303523</td>\n",
       "      <td>55.062923</td>\n",
       "      <td>1.221291</td>\n",
       "      <td>46.936035</td>\n",
       "      <td>blues</td>\n",
       "    </tr>\n",
       "    <tr>\n",
       "      <th>1</th>\n",
       "      <td>blues.00001.wav</td>\n",
       "      <td>661794</td>\n",
       "      <td>0.340914</td>\n",
       "      <td>0.094980</td>\n",
       "      <td>0.095948</td>\n",
       "      <td>0.002373</td>\n",
       "      <td>1530.176679</td>\n",
       "      <td>375850.073649</td>\n",
       "      <td>2039.036516</td>\n",
       "      <td>213843.755497</td>\n",
       "      <td>...</td>\n",
       "      <td>55.356403</td>\n",
       "      <td>-0.731125</td>\n",
       "      <td>60.314529</td>\n",
       "      <td>0.295073</td>\n",
       "      <td>48.120598</td>\n",
       "      <td>-0.283518</td>\n",
       "      <td>51.106190</td>\n",
       "      <td>0.531217</td>\n",
       "      <td>45.786282</td>\n",
       "      <td>blues</td>\n",
       "    </tr>\n",
       "    <tr>\n",
       "      <th>2</th>\n",
       "      <td>blues.00002.wav</td>\n",
       "      <td>661794</td>\n",
       "      <td>0.363637</td>\n",
       "      <td>0.085275</td>\n",
       "      <td>0.175570</td>\n",
       "      <td>0.002746</td>\n",
       "      <td>1552.811865</td>\n",
       "      <td>156467.643368</td>\n",
       "      <td>1747.702312</td>\n",
       "      <td>76254.192257</td>\n",
       "      <td>...</td>\n",
       "      <td>40.598766</td>\n",
       "      <td>-7.729093</td>\n",
       "      <td>47.639427</td>\n",
       "      <td>-1.816407</td>\n",
       "      <td>52.382141</td>\n",
       "      <td>-3.439720</td>\n",
       "      <td>46.639660</td>\n",
       "      <td>-2.231258</td>\n",
       "      <td>30.573025</td>\n",
       "      <td>blues</td>\n",
       "    </tr>\n",
       "    <tr>\n",
       "      <th>3</th>\n",
       "      <td>blues.00003.wav</td>\n",
       "      <td>661794</td>\n",
       "      <td>0.404785</td>\n",
       "      <td>0.093999</td>\n",
       "      <td>0.141093</td>\n",
       "      <td>0.006346</td>\n",
       "      <td>1070.106615</td>\n",
       "      <td>184355.942417</td>\n",
       "      <td>1596.412872</td>\n",
       "      <td>166441.494769</td>\n",
       "      <td>...</td>\n",
       "      <td>44.427753</td>\n",
       "      <td>-3.319597</td>\n",
       "      <td>50.206673</td>\n",
       "      <td>0.636965</td>\n",
       "      <td>37.319130</td>\n",
       "      <td>-0.619121</td>\n",
       "      <td>37.259739</td>\n",
       "      <td>-3.407448</td>\n",
       "      <td>31.949339</td>\n",
       "      <td>blues</td>\n",
       "    </tr>\n",
       "    <tr>\n",
       "      <th>4</th>\n",
       "      <td>blues.00004.wav</td>\n",
       "      <td>661794</td>\n",
       "      <td>0.308526</td>\n",
       "      <td>0.087841</td>\n",
       "      <td>0.091529</td>\n",
       "      <td>0.002303</td>\n",
       "      <td>1835.004266</td>\n",
       "      <td>343399.939274</td>\n",
       "      <td>1748.172116</td>\n",
       "      <td>88445.209036</td>\n",
       "      <td>...</td>\n",
       "      <td>86.099236</td>\n",
       "      <td>-5.454034</td>\n",
       "      <td>75.269707</td>\n",
       "      <td>-0.916874</td>\n",
       "      <td>53.613918</td>\n",
       "      <td>-4.404827</td>\n",
       "      <td>62.910812</td>\n",
       "      <td>-11.703234</td>\n",
       "      <td>55.195160</td>\n",
       "      <td>blues</td>\n",
       "    </tr>\n",
       "  </tbody>\n",
       "</table>\n",
       "<p>5 rows × 60 columns</p>\n",
       "</div>"
      ],
      "text/plain": [
       "          filename  length  chroma_stft_mean  chroma_stft_var  rms_mean  \\\n",
       "0  blues.00000.wav  661794          0.350088         0.088757  0.130228   \n",
       "1  blues.00001.wav  661794          0.340914         0.094980  0.095948   \n",
       "2  blues.00002.wav  661794          0.363637         0.085275  0.175570   \n",
       "3  blues.00003.wav  661794          0.404785         0.093999  0.141093   \n",
       "4  blues.00004.wav  661794          0.308526         0.087841  0.091529   \n",
       "\n",
       "    rms_var  spectral_centroid_mean  spectral_centroid_var  \\\n",
       "0  0.002827             1784.165850          129774.064525   \n",
       "1  0.002373             1530.176679          375850.073649   \n",
       "2  0.002746             1552.811865          156467.643368   \n",
       "3  0.006346             1070.106615          184355.942417   \n",
       "4  0.002303             1835.004266          343399.939274   \n",
       "\n",
       "   spectral_bandwidth_mean  spectral_bandwidth_var  ...  mfcc16_var  \\\n",
       "0              2002.449060            85882.761315  ...   52.420910   \n",
       "1              2039.036516           213843.755497  ...   55.356403   \n",
       "2              1747.702312            76254.192257  ...   40.598766   \n",
       "3              1596.412872           166441.494769  ...   44.427753   \n",
       "4              1748.172116            88445.209036  ...   86.099236   \n",
       "\n",
       "   mfcc17_mean  mfcc17_var  mfcc18_mean  mfcc18_var  mfcc19_mean  mfcc19_var  \\\n",
       "0    -1.690215   36.524071    -0.408979   41.597103    -2.303523   55.062923   \n",
       "1    -0.731125   60.314529     0.295073   48.120598    -0.283518   51.106190   \n",
       "2    -7.729093   47.639427    -1.816407   52.382141    -3.439720   46.639660   \n",
       "3    -3.319597   50.206673     0.636965   37.319130    -0.619121   37.259739   \n",
       "4    -5.454034   75.269707    -0.916874   53.613918    -4.404827   62.910812   \n",
       "\n",
       "   mfcc20_mean  mfcc20_var  label  \n",
       "0     1.221291   46.936035  blues  \n",
       "1     0.531217   45.786282  blues  \n",
       "2    -2.231258   30.573025  blues  \n",
       "3    -3.407448   31.949339  blues  \n",
       "4   -11.703234   55.195160  blues  \n",
       "\n",
       "[5 rows x 60 columns]"
      ]
     },
     "execution_count": 2,
     "metadata": {},
     "output_type": "execute_result"
    }
   ],
   "source": [
    "df_30s = pd.read_csv('features_30_sec.csv')\n",
    "df_30s.head()"
   ]
  },
  {
   "cell_type": "code",
   "execution_count": 3,
   "id": "3b606b0d",
   "metadata": {},
   "outputs": [
    {
     "data": {
      "text/html": [
       "<div>\n",
       "<style scoped>\n",
       "    .dataframe tbody tr th:only-of-type {\n",
       "        vertical-align: middle;\n",
       "    }\n",
       "\n",
       "    .dataframe tbody tr th {\n",
       "        vertical-align: top;\n",
       "    }\n",
       "\n",
       "    .dataframe thead th {\n",
       "        text-align: right;\n",
       "    }\n",
       "</style>\n",
       "<table border=\"1\" class=\"dataframe\">\n",
       "  <thead>\n",
       "    <tr style=\"text-align: right;\">\n",
       "      <th></th>\n",
       "      <th>filename</th>\n",
       "      <th>length</th>\n",
       "      <th>chroma_stft_mean</th>\n",
       "      <th>chroma_stft_var</th>\n",
       "      <th>rms_mean</th>\n",
       "      <th>rms_var</th>\n",
       "      <th>spectral_centroid_mean</th>\n",
       "      <th>spectral_centroid_var</th>\n",
       "      <th>spectral_bandwidth_mean</th>\n",
       "      <th>spectral_bandwidth_var</th>\n",
       "      <th>...</th>\n",
       "      <th>mfcc16_var</th>\n",
       "      <th>mfcc17_mean</th>\n",
       "      <th>mfcc17_var</th>\n",
       "      <th>mfcc18_mean</th>\n",
       "      <th>mfcc18_var</th>\n",
       "      <th>mfcc19_mean</th>\n",
       "      <th>mfcc19_var</th>\n",
       "      <th>mfcc20_mean</th>\n",
       "      <th>mfcc20_var</th>\n",
       "      <th>label</th>\n",
       "    </tr>\n",
       "  </thead>\n",
       "  <tbody>\n",
       "    <tr>\n",
       "      <th>0</th>\n",
       "      <td>blues.00000.0.wav</td>\n",
       "      <td>66149</td>\n",
       "      <td>0.335406</td>\n",
       "      <td>0.091048</td>\n",
       "      <td>0.130405</td>\n",
       "      <td>0.003521</td>\n",
       "      <td>1773.065032</td>\n",
       "      <td>167541.63090</td>\n",
       "      <td>1972.744388</td>\n",
       "      <td>117335.77160</td>\n",
       "      <td>...</td>\n",
       "      <td>39.687145</td>\n",
       "      <td>-3.241280</td>\n",
       "      <td>36.488243</td>\n",
       "      <td>0.722209</td>\n",
       "      <td>38.099152</td>\n",
       "      <td>-5.050335</td>\n",
       "      <td>33.618073</td>\n",
       "      <td>-0.243027</td>\n",
       "      <td>43.771767</td>\n",
       "      <td>blues</td>\n",
       "    </tr>\n",
       "    <tr>\n",
       "      <th>1</th>\n",
       "      <td>blues.00000.1.wav</td>\n",
       "      <td>66149</td>\n",
       "      <td>0.343065</td>\n",
       "      <td>0.086147</td>\n",
       "      <td>0.112699</td>\n",
       "      <td>0.001450</td>\n",
       "      <td>1816.693777</td>\n",
       "      <td>90525.69087</td>\n",
       "      <td>2010.051501</td>\n",
       "      <td>65671.87567</td>\n",
       "      <td>...</td>\n",
       "      <td>64.748276</td>\n",
       "      <td>-6.055294</td>\n",
       "      <td>40.677654</td>\n",
       "      <td>0.159015</td>\n",
       "      <td>51.264091</td>\n",
       "      <td>-2.837699</td>\n",
       "      <td>97.030830</td>\n",
       "      <td>5.784063</td>\n",
       "      <td>59.943081</td>\n",
       "      <td>blues</td>\n",
       "    </tr>\n",
       "    <tr>\n",
       "      <th>2</th>\n",
       "      <td>blues.00000.2.wav</td>\n",
       "      <td>66149</td>\n",
       "      <td>0.346815</td>\n",
       "      <td>0.092243</td>\n",
       "      <td>0.132003</td>\n",
       "      <td>0.004620</td>\n",
       "      <td>1788.539719</td>\n",
       "      <td>111407.43760</td>\n",
       "      <td>2084.565132</td>\n",
       "      <td>75124.92172</td>\n",
       "      <td>...</td>\n",
       "      <td>67.336563</td>\n",
       "      <td>-1.768610</td>\n",
       "      <td>28.348579</td>\n",
       "      <td>2.378768</td>\n",
       "      <td>45.717648</td>\n",
       "      <td>-1.938424</td>\n",
       "      <td>53.050835</td>\n",
       "      <td>2.517375</td>\n",
       "      <td>33.105122</td>\n",
       "      <td>blues</td>\n",
       "    </tr>\n",
       "    <tr>\n",
       "      <th>3</th>\n",
       "      <td>blues.00000.3.wav</td>\n",
       "      <td>66149</td>\n",
       "      <td>0.363639</td>\n",
       "      <td>0.086856</td>\n",
       "      <td>0.132565</td>\n",
       "      <td>0.002448</td>\n",
       "      <td>1655.289045</td>\n",
       "      <td>111952.28450</td>\n",
       "      <td>1960.039988</td>\n",
       "      <td>82913.63927</td>\n",
       "      <td>...</td>\n",
       "      <td>47.739452</td>\n",
       "      <td>-3.841155</td>\n",
       "      <td>28.337118</td>\n",
       "      <td>1.218588</td>\n",
       "      <td>34.770935</td>\n",
       "      <td>-3.580352</td>\n",
       "      <td>50.836224</td>\n",
       "      <td>3.630866</td>\n",
       "      <td>32.023678</td>\n",
       "      <td>blues</td>\n",
       "    </tr>\n",
       "    <tr>\n",
       "      <th>4</th>\n",
       "      <td>blues.00000.4.wav</td>\n",
       "      <td>66149</td>\n",
       "      <td>0.335579</td>\n",
       "      <td>0.088129</td>\n",
       "      <td>0.143289</td>\n",
       "      <td>0.001701</td>\n",
       "      <td>1630.656199</td>\n",
       "      <td>79667.26765</td>\n",
       "      <td>1948.503884</td>\n",
       "      <td>60204.02027</td>\n",
       "      <td>...</td>\n",
       "      <td>30.336359</td>\n",
       "      <td>0.664582</td>\n",
       "      <td>45.880913</td>\n",
       "      <td>1.689446</td>\n",
       "      <td>51.363583</td>\n",
       "      <td>-3.392489</td>\n",
       "      <td>26.738789</td>\n",
       "      <td>0.536961</td>\n",
       "      <td>29.146694</td>\n",
       "      <td>blues</td>\n",
       "    </tr>\n",
       "  </tbody>\n",
       "</table>\n",
       "<p>5 rows × 60 columns</p>\n",
       "</div>"
      ],
      "text/plain": [
       "            filename  length  chroma_stft_mean  chroma_stft_var  rms_mean  \\\n",
       "0  blues.00000.0.wav   66149          0.335406         0.091048  0.130405   \n",
       "1  blues.00000.1.wav   66149          0.343065         0.086147  0.112699   \n",
       "2  blues.00000.2.wav   66149          0.346815         0.092243  0.132003   \n",
       "3  blues.00000.3.wav   66149          0.363639         0.086856  0.132565   \n",
       "4  blues.00000.4.wav   66149          0.335579         0.088129  0.143289   \n",
       "\n",
       "    rms_var  spectral_centroid_mean  spectral_centroid_var  \\\n",
       "0  0.003521             1773.065032           167541.63090   \n",
       "1  0.001450             1816.693777            90525.69087   \n",
       "2  0.004620             1788.539719           111407.43760   \n",
       "3  0.002448             1655.289045           111952.28450   \n",
       "4  0.001701             1630.656199            79667.26765   \n",
       "\n",
       "   spectral_bandwidth_mean  spectral_bandwidth_var  ...  mfcc16_var  \\\n",
       "0              1972.744388            117335.77160  ...   39.687145   \n",
       "1              2010.051501             65671.87567  ...   64.748276   \n",
       "2              2084.565132             75124.92172  ...   67.336563   \n",
       "3              1960.039988             82913.63927  ...   47.739452   \n",
       "4              1948.503884             60204.02027  ...   30.336359   \n",
       "\n",
       "   mfcc17_mean  mfcc17_var  mfcc18_mean  mfcc18_var  mfcc19_mean  mfcc19_var  \\\n",
       "0    -3.241280   36.488243     0.722209   38.099152    -5.050335   33.618073   \n",
       "1    -6.055294   40.677654     0.159015   51.264091    -2.837699   97.030830   \n",
       "2    -1.768610   28.348579     2.378768   45.717648    -1.938424   53.050835   \n",
       "3    -3.841155   28.337118     1.218588   34.770935    -3.580352   50.836224   \n",
       "4     0.664582   45.880913     1.689446   51.363583    -3.392489   26.738789   \n",
       "\n",
       "   mfcc20_mean  mfcc20_var  label  \n",
       "0    -0.243027   43.771767  blues  \n",
       "1     5.784063   59.943081  blues  \n",
       "2     2.517375   33.105122  blues  \n",
       "3     3.630866   32.023678  blues  \n",
       "4     0.536961   29.146694  blues  \n",
       "\n",
       "[5 rows x 60 columns]"
      ]
     },
     "execution_count": 3,
     "metadata": {},
     "output_type": "execute_result"
    }
   ],
   "source": [
    "df_3s = pd.read_csv('features_3_sec_fix.csv')\n",
    "df_3s.head()"
   ]
  },
  {
   "cell_type": "markdown",
   "id": "05a5c55d",
   "metadata": {},
   "source": [
    "<h4>ANN"
   ]
  },
  {
   "cell_type": "code",
   "execution_count": 4,
   "id": "42fc2d02",
   "metadata": {},
   "outputs": [],
   "source": [
    "from sklearn.preprocessing import LabelEncoder\n",
    "\n",
    "class_list_30s = df_30s.iloc[:,-1]\n",
    "le_30s = LabelEncoder()"
   ]
  },
  {
   "cell_type": "code",
   "execution_count": 5,
   "id": "c47fd59b",
   "metadata": {},
   "outputs": [
    {
     "data": {
      "text/plain": [
       "1000"
      ]
     },
     "execution_count": 5,
     "metadata": {},
     "output_type": "execute_result"
    }
   ],
   "source": [
    "y_30s = le_30s.fit_transform(class_list_30s)\n",
    "len(y_30s)"
   ]
  },
  {
   "cell_type": "code",
   "execution_count": 6,
   "id": "2fb56050",
   "metadata": {},
   "outputs": [],
   "source": [
    "from sklearn.preprocessing import StandardScaler\n",
    "\n",
    "scaler = StandardScaler()\n",
    "X_30s = scaler.fit_transform(np.array(df_30s.iloc[:,2:-1], dtype = float))"
   ]
  },
  {
   "cell_type": "code",
   "execution_count": 7,
   "id": "9ab3be15",
   "metadata": {},
   "outputs": [
    {
     "data": {
      "text/plain": [
       "(1000, 57)"
      ]
     },
     "execution_count": 7,
     "metadata": {},
     "output_type": "execute_result"
    }
   ],
   "source": [
    "X_30s.shape"
   ]
  },
  {
   "cell_type": "code",
   "execution_count": 8,
   "id": "001d4e36",
   "metadata": {},
   "outputs": [],
   "source": [
    "from sklearn.model_selection import train_test_split\n",
    "\n",
    "X_train, X_test, y_train, y_test = train_test_split(X_30s, y_30s, test_size=0.2)"
   ]
  },
  {
   "cell_type": "code",
   "execution_count": 9,
   "id": "dd1980d2",
   "metadata": {},
   "outputs": [],
   "source": [
    "from tensorflow import keras\n",
    "from keras.models import Sequential\n",
    "from keras.layers import Dense\n",
    "from keras.layers import Dropout"
   ]
  },
  {
   "cell_type": "code",
   "execution_count": 10,
   "id": "7b4819f4",
   "metadata": {},
   "outputs": [],
   "source": [
    "model = keras.models.Sequential()\n",
    "\n",
    "model.add(Dense(units= 600,activation='relu', input_shape=(X_train.shape[1],)))\n",
    "model.add(Dropout(0.2))\n",
    "model.add(Dense(units=400, activation='relu'))\n",
    "model.add(Dropout(0.2))\n",
    "model.add(Dense(units=300, activation='relu'))\n",
    "model.add(Dropout(0.2))\n",
    "model.add(Dense(units=100, activation='relu'))\n",
    "model.add(Dropout(0.2))\n",
    "model.add(Dense(units=50, activation='relu'))\n",
    "model.add(Dropout(0.2))\n",
    "model.add(Dense(units=10, activation='softmax'))\n",
    "\n",
    "model.compile(optimizer = 'adam', loss = 'sparse_categorical_crossentropy', metrics = ['accuracy'])"
   ]
  },
  {
   "cell_type": "code",
   "execution_count": 11,
   "id": "41a1ceb6",
   "metadata": {},
   "outputs": [
    {
     "data": {
      "image/png": "[encoded data removed]",
      "text/plain": [
       "<IPython.core.display.Image object>"
      ]
     },
     "execution_count": 11,
     "metadata": {},
     "output_type": "execute_result"
    }
   ],
   "source": [
    "keras.utils.plot_model(model, \"ANN.png\", show_shapes=True)"
   ]
  },
  {
   "cell_type": "code",
   "execution_count": 12,
   "id": "0c5794a8",
   "metadata": {},
   "outputs": [
    {
     "name": "stdout",
     "output_type": "stream",
     "text": [
      "Epoch 1/50\n",
      "1/6 [====>.........................] - ETA: 3s - loss: 2.3149 - accuracy: 0.1067\n",
      "Epoch 1: val_accuracy improved from -inf to 0.41000, saving model to weights.hdf5\n",
      "6/6 [==============================] - 1s 34ms/step - loss: 2.2099 - accuracy: 0.1900 - val_loss: 2.0207 - val_accuracy: 0.4100\n",
      "Epoch 2/50\n",
      "1/6 [====>.........................] - ETA: 0s - loss: 2.0990 - accuracy: 0.2533\n",
      "Epoch 2: val_accuracy improved from 0.41000 to 0.45000, saving model to weights.hdf5\n",
      "6/6 [==============================] - 0s 14ms/step - loss: 1.9133 - accuracy: 0.3250 - val_loss: 1.6480 - val_accuracy: 0.4500\n",
      "Epoch 3/50\n",
      "1/6 [====>.........................] - ETA: 0s - loss: 1.7093 - accuracy: 0.3467\n",
      "Epoch 3: val_accuracy improved from 0.45000 to 0.49000, saving model to weights.hdf5\n",
      "6/6 [==============================] - 0s 14ms/step - loss: 1.7087 - accuracy: 0.3688 - val_loss: 1.4164 - val_accuracy: 0.4900\n",
      "Epoch 4/50\n",
      "1/6 [====>.........................] - ETA: 0s - loss: 1.4799 - accuracy: 0.4533\n",
      "Epoch 4: val_accuracy improved from 0.49000 to 0.54000, saving model to weights.hdf5\n",
      "6/6 [==============================] - 0s 14ms/step - loss: 1.5257 - accuracy: 0.4538 - val_loss: 1.2571 - val_accuracy: 0.5400\n",
      "Epoch 5/50\n",
      "1/6 [====>.........................] - ETA: 0s - loss: 1.3780 - accuracy: 0.5133\n",
      "Epoch 5: val_accuracy improved from 0.54000 to 0.57500, saving model to weights.hdf5\n",
      "6/6 [==============================] - 0s 14ms/step - loss: 1.3869 - accuracy: 0.4913 - val_loss: 1.1955 - val_accuracy: 0.5750\n",
      "Epoch 6/50\n",
      "1/6 [====>.........................] - ETA: 0s - loss: 1.3193 - accuracy: 0.4667\n",
      "Epoch 6: val_accuracy improved from 0.57500 to 0.58500, saving model to weights.hdf5\n",
      "6/6 [==============================] - 0s 14ms/step - loss: 1.2908 - accuracy: 0.5238 - val_loss: 1.1386 - val_accuracy: 0.5850\n",
      "Epoch 7/50\n",
      "1/6 [====>.........................] - ETA: 0s - loss: 1.1473 - accuracy: 0.6467\n",
      "Epoch 7: val_accuracy improved from 0.58500 to 0.63500, saving model to weights.hdf5\n",
      "6/6 [==============================] - 0s 14ms/step - loss: 1.1441 - accuracy: 0.6150 - val_loss: 1.0581 - val_accuracy: 0.6350\n",
      "Epoch 8/50\n",
      "1/6 [====>.........................] - ETA: 0s - loss: 1.0936 - accuracy: 0.6133\n",
      "Epoch 8: val_accuracy improved from 0.63500 to 0.64500, saving model to weights.hdf5\n",
      "6/6 [==============================] - 0s 14ms/step - loss: 1.0618 - accuracy: 0.6162 - val_loss: 1.0161 - val_accuracy: 0.6450\n",
      "Epoch 9/50\n",
      "1/6 [====>.........................] - ETA: 0s - loss: 0.9475 - accuracy: 0.6600\n",
      "Epoch 9: val_accuracy improved from 0.64500 to 0.66000, saving model to weights.hdf5\n",
      "6/6 [==============================] - 0s 13ms/step - loss: 0.9532 - accuracy: 0.6787 - val_loss: 1.0001 - val_accuracy: 0.6600\n",
      "Epoch 10/50\n",
      "1/6 [====>.........................] - ETA: 0s - loss: 0.8984 - accuracy: 0.6333\n",
      "Epoch 10: val_accuracy improved from 0.66000 to 0.67000, saving model to weights.hdf5\n",
      "6/6 [==============================] - 0s 13ms/step - loss: 0.8541 - accuracy: 0.6925 - val_loss: 0.9914 - val_accuracy: 0.6700\n",
      "Epoch 11/50\n",
      "1/6 [====>.........................] - ETA: 0s - loss: 0.7870 - accuracy: 0.7400\n",
      "Epoch 11: val_accuracy improved from 0.67000 to 0.68000, saving model to weights.hdf5\n",
      "6/6 [==============================] - 0s 14ms/step - loss: 0.8032 - accuracy: 0.7100 - val_loss: 0.9637 - val_accuracy: 0.6800\n",
      "Epoch 12/50\n",
      "1/6 [====>.........................] - ETA: 0s - loss: 0.7738 - accuracy: 0.7267\n",
      "Epoch 12: val_accuracy improved from 0.68000 to 0.70500, saving model to weights.hdf5\n",
      "6/6 [==============================] - 0s 14ms/step - loss: 0.7652 - accuracy: 0.7563 - val_loss: 0.9567 - val_accuracy: 0.7050\n",
      "Epoch 13/50\n",
      "1/6 [====>.........................] - ETA: 0s - loss: 0.6246 - accuracy: 0.7467\n",
      "Epoch 13: val_accuracy did not improve from 0.70500\n",
      "6/6 [==============================] - 0s 8ms/step - loss: 0.6846 - accuracy: 0.7800 - val_loss: 0.9669 - val_accuracy: 0.6950\n",
      "Epoch 14/50\n",
      "1/6 [====>.........................] - ETA: 0s - loss: 0.6192 - accuracy: 0.8000\n",
      "Epoch 14: val_accuracy did not improve from 0.70500\n",
      "6/6 [==============================] - 0s 8ms/step - loss: 0.6470 - accuracy: 0.7638 - val_loss: 0.9503 - val_accuracy: 0.7000\n",
      "Epoch 15/50\n",
      "1/6 [====>.........................] - ETA: 0s - loss: 0.6159 - accuracy: 0.8200\n",
      "Epoch 15: val_accuracy did not improve from 0.70500\n",
      "6/6 [==============================] - 0s 7ms/step - loss: 0.5609 - accuracy: 0.8250 - val_loss: 0.9997 - val_accuracy: 0.6950\n",
      "Epoch 16/50\n",
      "1/6 [====>.........................] - ETA: 0s - loss: 0.6023 - accuracy: 0.8000\n",
      "Epoch 16: val_accuracy did not improve from 0.70500\n",
      "6/6 [==============================] - 0s 8ms/step - loss: 0.5495 - accuracy: 0.8125 - val_loss: 0.9409 - val_accuracy: 0.6900\n",
      "Epoch 17/50\n",
      "1/6 [====>.........................] - ETA: 0s - loss: 0.4699 - accuracy: 0.8467\n",
      "Epoch 17: val_accuracy did not improve from 0.70500\n",
      "6/6 [==============================] - 0s 8ms/step - loss: 0.4861 - accuracy: 0.8388 - val_loss: 0.9882 - val_accuracy: 0.6850\n",
      "Epoch 18/50\n",
      "1/6 [====>.........................] - ETA: 0s - loss: 0.4892 - accuracy: 0.8400\n",
      "Epoch 18: val_accuracy improved from 0.70500 to 0.71000, saving model to weights.hdf5\n",
      "6/6 [==============================] - 0s 14ms/step - loss: 0.4959 - accuracy: 0.8300 - val_loss: 0.9843 - val_accuracy: 0.7100\n",
      "Epoch 19/50\n",
      "1/6 [====>.........................] - ETA: 0s - loss: 0.3832 - accuracy: 0.9133\n",
      "Epoch 19: val_accuracy improved from 0.71000 to 0.73000, saving model to weights.hdf5\n",
      "6/6 [==============================] - 0s 14ms/step - loss: 0.4079 - accuracy: 0.8763 - val_loss: 0.9618 - val_accuracy: 0.7300\n",
      "Epoch 20/50\n",
      "1/6 [====>.........................] - ETA: 0s - loss: 0.4151 - accuracy: 0.8400\n",
      "Epoch 20: val_accuracy did not improve from 0.73000\n",
      "6/6 [==============================] - 0s 8ms/step - loss: 0.4214 - accuracy: 0.8650 - val_loss: 0.9620 - val_accuracy: 0.7250\n",
      "Epoch 21/50\n",
      "1/6 [====>.........................] - ETA: 0s - loss: 0.3174 - accuracy: 0.8733\n",
      "Epoch 21: val_accuracy did not improve from 0.73000\n",
      "6/6 [==============================] - 0s 8ms/step - loss: 0.3525 - accuracy: 0.8712 - val_loss: 0.9579 - val_accuracy: 0.7250\n",
      "Epoch 22/50\n",
      "1/6 [====>.........................] - ETA: 0s - loss: 0.3376 - accuracy: 0.8667\n",
      "Epoch 22: val_accuracy improved from 0.73000 to 0.73500, saving model to weights.hdf5\n",
      "6/6 [==============================] - 0s 14ms/step - loss: 0.3155 - accuracy: 0.8950 - val_loss: 0.9565 - val_accuracy: 0.7350\n",
      "Epoch 23/50\n",
      "1/6 [====>.........................] - ETA: 0s - loss: 0.3547 - accuracy: 0.8933\n",
      "Epoch 23: val_accuracy did not improve from 0.73500\n",
      "6/6 [==============================] - 0s 8ms/step - loss: 0.3099 - accuracy: 0.9038 - val_loss: 1.0012 - val_accuracy: 0.7300\n",
      "Epoch 24/50\n",
      "1/6 [====>.........................] - ETA: 0s - loss: 0.2114 - accuracy: 0.9333\n",
      "Epoch 24: val_accuracy did not improve from 0.73500\n",
      "6/6 [==============================] - 0s 8ms/step - loss: 0.2676 - accuracy: 0.9175 - val_loss: 1.0741 - val_accuracy: 0.7250\n",
      "Epoch 25/50\n",
      "1/6 [====>.........................] - ETA: 0s - loss: 0.2853 - accuracy: 0.9067\n",
      "Epoch 25: val_accuracy did not improve from 0.73500\n",
      "6/6 [==============================] - 0s 8ms/step - loss: 0.3220 - accuracy: 0.8975 - val_loss: 1.0578 - val_accuracy: 0.7250\n",
      "Epoch 26/50\n",
      "1/6 [====>.........................] - ETA: 0s - loss: 0.2257 - accuracy: 0.9400\n",
      "Epoch 26: val_accuracy did not improve from 0.73500\n",
      "6/6 [==============================] - 0s 7ms/step - loss: 0.2625 - accuracy: 0.9212 - val_loss: 1.1014 - val_accuracy: 0.7000\n",
      "Epoch 27/50\n",
      "1/6 [====>.........................] - ETA: 0s - loss: 0.2199 - accuracy: 0.9333\n",
      "Epoch 27: val_accuracy did not improve from 0.73500\n",
      "6/6 [==============================] - 0s 7ms/step - loss: 0.2432 - accuracy: 0.9312 - val_loss: 1.0612 - val_accuracy: 0.7200\n",
      "Epoch 28/50\n",
      "1/6 [====>.........................] - ETA: 0s - loss: 0.2817 - accuracy: 0.9200\n",
      "Epoch 28: val_accuracy did not improve from 0.73500\n",
      "6/6 [==============================] - 0s 8ms/step - loss: 0.2455 - accuracy: 0.9237 - val_loss: 1.1815 - val_accuracy: 0.7100\n",
      "Epoch 29/50\n"
     ]
    },
    {
     "name": "stdout",
     "output_type": "stream",
     "text": [
      "1/6 [====>.........................] - ETA: 0s - loss: 0.1722 - accuracy: 0.9533\n",
      "Epoch 29: val_accuracy did not improve from 0.73500\n",
      "6/6 [==============================] - 0s 7ms/step - loss: 0.2125 - accuracy: 0.9350 - val_loss: 1.2382 - val_accuracy: 0.6750\n",
      "Epoch 30/50\n",
      "1/6 [====>.........................] - ETA: 0s - loss: 0.1613 - accuracy: 0.9467\n",
      "Epoch 30: val_accuracy did not improve from 0.73500\n",
      "6/6 [==============================] - 0s 8ms/step - loss: 0.2054 - accuracy: 0.9362 - val_loss: 1.2218 - val_accuracy: 0.7000\n",
      "Epoch 31/50\n",
      "1/6 [====>.........................] - ETA: 0s - loss: 0.1714 - accuracy: 0.9467\n",
      "Epoch 31: val_accuracy did not improve from 0.73500\n",
      "6/6 [==============================] - 0s 7ms/step - loss: 0.1585 - accuracy: 0.9488 - val_loss: 1.2357 - val_accuracy: 0.6950\n",
      "Epoch 32/50\n",
      "1/6 [====>.........................] - ETA: 0s - loss: 0.1091 - accuracy: 0.9800\n",
      "Epoch 32: val_accuracy did not improve from 0.73500\n",
      "6/6 [==============================] - 0s 7ms/step - loss: 0.1509 - accuracy: 0.9625 - val_loss: 1.2534 - val_accuracy: 0.7300\n",
      "Epoch 33/50\n",
      "1/6 [====>.........................] - ETA: 0s - loss: 0.1583 - accuracy: 0.9400\n",
      "Epoch 33: val_accuracy did not improve from 0.73500\n",
      "6/6 [==============================] - 0s 8ms/step - loss: 0.1341 - accuracy: 0.9613 - val_loss: 1.2251 - val_accuracy: 0.7250\n",
      "Epoch 34/50\n",
      "1/6 [====>.........................] - ETA: 0s - loss: 0.1363 - accuracy: 0.9733\n",
      "Epoch 34: val_accuracy did not improve from 0.73500\n",
      "6/6 [==============================] - 0s 7ms/step - loss: 0.1287 - accuracy: 0.9663 - val_loss: 1.3075 - val_accuracy: 0.7200\n",
      "Epoch 35/50\n",
      "1/6 [====>.........................] - ETA: 0s - loss: 0.0649 - accuracy: 0.9867\n",
      "Epoch 35: val_accuracy did not improve from 0.73500\n",
      "6/6 [==============================] - 0s 7ms/step - loss: 0.1144 - accuracy: 0.9650 - val_loss: 1.3671 - val_accuracy: 0.6850\n",
      "Epoch 36/50\n",
      "1/6 [====>.........................] - ETA: 0s - loss: 0.1026 - accuracy: 0.9667\n",
      "Epoch 36: val_accuracy did not improve from 0.73500\n",
      "6/6 [==============================] - 0s 8ms/step - loss: 0.1295 - accuracy: 0.9575 - val_loss: 1.3738 - val_accuracy: 0.7050\n",
      "Epoch 37/50\n",
      "1/6 [====>.........................] - ETA: 0s - loss: 0.0704 - accuracy: 0.9800\n",
      "Epoch 37: val_accuracy did not improve from 0.73500\n",
      "6/6 [==============================] - 0s 7ms/step - loss: 0.1358 - accuracy: 0.9613 - val_loss: 1.3090 - val_accuracy: 0.7200\n",
      "Epoch 38/50\n",
      "1/6 [====>.........................] - ETA: 0s - loss: 0.1072 - accuracy: 0.9533\n",
      "Epoch 38: val_accuracy did not improve from 0.73500\n",
      "6/6 [==============================] - 0s 7ms/step - loss: 0.0977 - accuracy: 0.9675 - val_loss: 1.3865 - val_accuracy: 0.7050\n",
      "Epoch 39/50\n",
      "1/6 [====>.........................] - ETA: 0s - loss: 0.1056 - accuracy: 0.9733\n",
      "Epoch 39: val_accuracy did not improve from 0.73500\n",
      "6/6 [==============================] - 0s 8ms/step - loss: 0.1187 - accuracy: 0.9663 - val_loss: 1.3698 - val_accuracy: 0.7200\n",
      "Epoch 40/50\n",
      "1/6 [====>.........................] - ETA: 0s - loss: 0.0797 - accuracy: 0.9867\n",
      "Epoch 40: val_accuracy did not improve from 0.73500\n",
      "6/6 [==============================] - 0s 7ms/step - loss: 0.0959 - accuracy: 0.9688 - val_loss: 1.4222 - val_accuracy: 0.7050\n",
      "Epoch 41/50\n",
      "1/6 [====>.........................] - ETA: 0s - loss: 0.0717 - accuracy: 0.9933\n",
      "Epoch 41: val_accuracy did not improve from 0.73500\n",
      "6/6 [==============================] - 0s 8ms/step - loss: 0.1082 - accuracy: 0.9688 - val_loss: 1.4691 - val_accuracy: 0.7150\n",
      "Epoch 42/50\n",
      "1/6 [====>.........................] - ETA: 0s - loss: 0.0638 - accuracy: 0.9800\n",
      "Epoch 42: val_accuracy did not improve from 0.73500\n",
      "6/6 [==============================] - 0s 7ms/step - loss: 0.0769 - accuracy: 0.9775 - val_loss: 1.4774 - val_accuracy: 0.6900\n",
      "Epoch 43/50\n",
      "1/6 [====>.........................] - ETA: 0s - loss: 0.0339 - accuracy: 0.9933\n",
      "Epoch 43: val_accuracy did not improve from 0.73500\n",
      "6/6 [==============================] - 0s 8ms/step - loss: 0.0762 - accuracy: 0.9787 - val_loss: 1.5134 - val_accuracy: 0.7100\n",
      "Epoch 44/50\n",
      "1/6 [====>.........................] - ETA: 0s - loss: 0.1412 - accuracy: 0.9533\n",
      "Epoch 44: val_accuracy did not improve from 0.73500\n",
      "6/6 [==============================] - 0s 8ms/step - loss: 0.1075 - accuracy: 0.9675 - val_loss: 1.5329 - val_accuracy: 0.7150\n",
      "Epoch 45/50\n",
      "1/6 [====>.........................] - ETA: 0s - loss: 0.0770 - accuracy: 0.9800\n",
      "Epoch 45: val_accuracy did not improve from 0.73500\n",
      "6/6 [==============================] - 0s 7ms/step - loss: 0.0664 - accuracy: 0.9800 - val_loss: 1.5544 - val_accuracy: 0.7100\n",
      "Epoch 46/50\n",
      "1/6 [====>.........................] - ETA: 0s - loss: 0.0281 - accuracy: 0.9933\n",
      "Epoch 46: val_accuracy did not improve from 0.73500\n",
      "6/6 [==============================] - 0s 8ms/step - loss: 0.0681 - accuracy: 0.9850 - val_loss: 1.5997 - val_accuracy: 0.7000\n",
      "Epoch 47/50\n",
      "1/6 [====>.........................] - ETA: 0s - loss: 0.0395 - accuracy: 0.9867\n",
      "Epoch 47: val_accuracy did not improve from 0.73500\n",
      "6/6 [==============================] - 0s 8ms/step - loss: 0.0768 - accuracy: 0.9812 - val_loss: 1.5500 - val_accuracy: 0.6900\n",
      "Epoch 48/50\n",
      "1/6 [====>.........................] - ETA: 0s - loss: 0.0374 - accuracy: 0.9867\n",
      "Epoch 48: val_accuracy did not improve from 0.73500\n",
      "6/6 [==============================] - 0s 7ms/step - loss: 0.0529 - accuracy: 0.9812 - val_loss: 1.5232 - val_accuracy: 0.6950\n",
      "Epoch 49/50\n",
      "1/6 [====>.........................] - ETA: 0s - loss: 0.0177 - accuracy: 1.0000\n",
      "Epoch 49: val_accuracy did not improve from 0.73500\n",
      "6/6 [==============================] - 0s 8ms/step - loss: 0.0449 - accuracy: 0.9862 - val_loss: 1.5605 - val_accuracy: 0.7250\n",
      "Epoch 50/50\n",
      "1/6 [====>.........................] - ETA: 0s - loss: 0.1087 - accuracy: 0.9533\n",
      "Epoch 50: val_accuracy did not improve from 0.73500\n",
      "6/6 [==============================] - 0s 8ms/step - loss: 0.0608 - accuracy: 0.9750 - val_loss: 1.6509 - val_accuracy: 0.6900\n"
     ]
    }
   ],
   "source": [
    "from tensorflow.keras.callbacks import ModelCheckpoint\n",
    "\n",
    "checkpointer = ModelCheckpoint(filepath=\"weights.hdf5\", monitor = 'val_accuracy', verbose=1, save_best_only=True)\n",
    "\n",
    "history = model.fit(X_train, y_train, epochs=50, batch_size=150, \n",
    "                    callbacks = [checkpointer], validation_data=(X_test, y_test))"
   ]
  },
  {
   "cell_type": "code",
   "execution_count": 13,
   "id": "5962c74c",
   "metadata": {},
   "outputs": [],
   "source": [
    "model.save(\"ANN_30s.h5\")"
   ]
  },
  {
   "cell_type": "code",
   "execution_count": 14,
   "id": "72761891",
   "metadata": {},
   "outputs": [
    {
     "name": "stdout",
     "output_type": "stream",
     "text": [
      "2/2 [==============================] - 0s 3ms/step - loss: 1.6509 - accuracy: 0.6900\n",
      "test_loss:  1.650852918624878\n",
      "test acc:  68.99999976158142\n"
     ]
    }
   ],
   "source": [
    "test_loss, test_acc = model.evaluate(X_test, y_test, batch_size=100)\n",
    "print('test_loss: ', test_loss)\n",
    "print('test acc: ', test_acc*100)"
   ]
  },
  {
   "cell_type": "code",
   "execution_count": 15,
   "id": "55088d72",
   "metadata": {},
   "outputs": [
    {
     "data": {
      "image/png": "[encoded data removed]",
      "text/plain": [
       "<Figure size 432x288 with 2 Axes>"
      ]
     },
     "metadata": {
      "needs_background": "light"
     },
     "output_type": "display_data"
    }
   ],
   "source": [
    "from sklearn.metrics import ConfusionMatrixDisplay\n",
    "\n",
    "y_pred = model.predict(X_test)\n",
    "y_pred = np.argmax(y_pred, axis = 1)\n",
    "y_pred = le_30s.inverse_transform(y_pred)\n",
    "\n",
    "y_test_label = le_30s.inverse_transform(y_test)\n",
    "\n",
    "disp = ConfusionMatrixDisplay.from_predictions(y_test_label, y_pred, display_labels=le_30s.classes_,\n",
    "                                               xticks_rotation=\"vertical\", cmap=\"YlGn\")"
   ]
  },
  {
   "cell_type": "code",
   "execution_count": 16,
   "id": "18588a1d",
   "metadata": {},
   "outputs": [
    {
     "data": {
      "image/png": "[encoded data removed]",
      "text/plain": [
       "<Figure size 432x288 with 1 Axes>"
      ]
     },
     "metadata": {
      "needs_background": "light"
     },
     "output_type": "display_data"
    }
   ],
   "source": [
    "import matplotlib.pyplot as plt\n",
    "\n",
    "plt.subplots()\n",
    "plt.plot(history.history['accuracy'])\n",
    "plt.plot(history.history['val_accuracy'])\n",
    "plt.title('ANN Accuracy')\n",
    "plt.ylabel('Accuracy')\n",
    "plt.xlabel('Epoch')\n",
    "plt.legend(['Train', 'Validation'])\n",
    "plt.show()"
   ]
  },
  {
   "cell_type": "code",
   "execution_count": 17,
   "id": "e563dc55",
   "metadata": {},
   "outputs": [
    {
     "data": {
      "image/png": "[encoded data removed]",
      "text/plain": [
       "<Figure size 432x288 with 1 Axes>"
      ]
     },
     "metadata": {
      "needs_background": "light"
     },
     "output_type": "display_data"
    }
   ],
   "source": [
    "plt.subplots()\n",
    "plt.plot(history.history['loss'])\n",
    "plt.plot(history.history['val_loss'])\n",
    "plt.title('ANN Loss')\n",
    "plt.ylabel('Loss')\n",
    "plt.xlabel('Epoch')\n",
    "plt.legend(['Train', 'Validation'])\n",
    "plt.show()"
   ]
  },
  {
   "cell_type": "markdown",
   "id": "9895a7de",
   "metadata": {},
   "source": [
    "<h4>RNN"
   ]
  },
  {
   "cell_type": "code",
   "execution_count": 18,
   "id": "aa10944e",
   "metadata": {},
   "outputs": [],
   "source": [
    "class_list_3s = df_3s.iloc[:,-1]\n",
    "le_3s = LabelEncoder()"
   ]
  },
  {
   "cell_type": "code",
   "execution_count": 19,
   "id": "f2f23cdb",
   "metadata": {},
   "outputs": [
    {
     "data": {
      "text/plain": [
       "array([0, 0, 0, ..., 9, 9, 9])"
      ]
     },
     "execution_count": 19,
     "metadata": {},
     "output_type": "execute_result"
    }
   ],
   "source": [
    "y = le_3s.fit_transform(class_list_3s)\n",
    "y"
   ]
  },
  {
   "cell_type": "code",
   "execution_count": 20,
   "id": "144e4175",
   "metadata": {},
   "outputs": [],
   "source": [
    "scaler = StandardScaler()\n",
    "X_3s = scaler.fit_transform(np.array(df_3s.iloc[:,2:-1], dtype = float))"
   ]
  },
  {
   "cell_type": "code",
   "execution_count": 21,
   "id": "ccebe5b0",
   "metadata": {},
   "outputs": [
    {
     "data": {
      "text/plain": [
       "(10000, 57)"
      ]
     },
     "execution_count": 21,
     "metadata": {},
     "output_type": "execute_result"
    }
   ],
   "source": [
    "X_3s.shape"
   ]
  },
  {
   "cell_type": "code",
   "execution_count": 22,
   "id": "6eb63a66",
   "metadata": {},
   "outputs": [],
   "source": [
    "from sklearn.model_selection import train_test_split\n",
    "\n",
    "X_timeseries = np.reshape(X_3s, (1000, 10, 57))\n",
    "y_timeseries = np.array([y[i] for i in range(0, 10000, 10)])\n",
    "\n",
    "X_train, X_test, y_train, y_test = train_test_split(X_timeseries, y_timeseries, test_size=0.2)"
   ]
  },
  {
   "cell_type": "code",
   "execution_count": 23,
   "id": "a0d6b325",
   "metadata": {},
   "outputs": [],
   "source": [
    "from tensorflow import keras\n",
    "from tensorflow.keras.models import Sequential\n",
    "from tensorflow.keras.layers import Dense, LSTM, Dropout\n",
    "from tensorflow.keras.optimizers import Adam\n",
    "from tensorflow.keras.callbacks import ModelCheckpoint"
   ]
  },
  {
   "cell_type": "code",
   "execution_count": 24,
   "id": "2bd6dcb5",
   "metadata": {},
   "outputs": [],
   "source": [
    "model_lstm = Sequential()\n",
    "\n",
    "model_lstm.add(LSTM(units=30, return_sequences=True, input_shape=(X_train.shape[1], X_train.shape[2])))\n",
    "model_lstm.add(LSTM(20))\n",
    "model_lstm.add(Dense(units=10, activation='softmax'))\n",
    "\n",
    "model_lstm.compile(optimizer='adam', loss='sparse_categorical_crossentropy', metrics = ['accuracy'])"
   ]
  },
  {
   "cell_type": "code",
   "execution_count": 25,
   "id": "c0f99bb6",
   "metadata": {},
   "outputs": [
    {
     "data": {
      "image/png": "[encoded data removed]",
      "text/plain": [
       "<IPython.core.display.Image object>"
      ]
     },
     "execution_count": 25,
     "metadata": {},
     "output_type": "execute_result"
    }
   ],
   "source": [
    "keras.utils.plot_model(model_lstm, \"LSTM.png\", show_shapes=True)"
   ]
  },
  {
   "cell_type": "code",
   "execution_count": 26,
   "id": "c71812f3",
   "metadata": {},
   "outputs": [
    {
     "name": "stdout",
     "output_type": "stream",
     "text": [
      "Epoch 1/50\n",
      "1/6 [====>.........................] - ETA: 8s - loss: 2.3449 - accuracy: 0.0933\n",
      "Epoch 1: val_accuracy improved from -inf to 0.16500, saving model to weights.hdf5\n",
      "6/6 [==============================] - 2s 94ms/step - loss: 2.3306 - accuracy: 0.0938 - val_loss: 2.2726 - val_accuracy: 0.1650\n",
      "Epoch 2/50\n",
      "1/6 [====>.........................] - ETA: 0s - loss: 2.2658 - accuracy: 0.1600\n",
      "Epoch 2: val_accuracy improved from 0.16500 to 0.28500, saving model to weights.hdf5\n",
      "6/6 [==============================] - 0s 13ms/step - loss: 2.2281 - accuracy: 0.2262 - val_loss: 2.1939 - val_accuracy: 0.2850\n",
      "Epoch 3/50\n",
      "1/6 [====>.........................] - ETA: 0s - loss: 2.1844 - accuracy: 0.2733\n",
      "Epoch 3: val_accuracy improved from 0.28500 to 0.35000, saving model to weights.hdf5\n",
      "6/6 [==============================] - 0s 14ms/step - loss: 2.1418 - accuracy: 0.3388 - val_loss: 2.1249 - val_accuracy: 0.3500\n",
      "Epoch 4/50\n",
      "1/6 [====>.........................] - ETA: 0s - loss: 2.1046 - accuracy: 0.3333\n",
      "Epoch 4: val_accuracy improved from 0.35000 to 0.37500, saving model to weights.hdf5\n",
      "6/6 [==============================] - 0s 14ms/step - loss: 2.0624 - accuracy: 0.3775 - val_loss: 2.0591 - val_accuracy: 0.3750\n",
      "Epoch 5/50\n",
      "1/6 [====>.........................] - ETA: 0s - loss: 1.9926 - accuracy: 0.4133\n",
      "Epoch 5: val_accuracy improved from 0.37500 to 0.38000, saving model to weights.hdf5\n",
      "6/6 [==============================] - 0s 13ms/step - loss: 1.9841 - accuracy: 0.4112 - val_loss: 1.9988 - val_accuracy: 0.3800\n",
      "Epoch 6/50\n",
      "1/6 [====>.........................] - ETA: 0s - loss: 1.9515 - accuracy: 0.4333\n",
      "Epoch 6: val_accuracy improved from 0.38000 to 0.39000, saving model to weights.hdf5\n",
      "6/6 [==============================] - 0s 13ms/step - loss: 1.9103 - accuracy: 0.4338 - val_loss: 1.9404 - val_accuracy: 0.3900\n",
      "Epoch 7/50\n",
      "1/6 [====>.........................] - ETA: 0s - loss: 1.8646 - accuracy: 0.4867\n",
      "Epoch 7: val_accuracy improved from 0.39000 to 0.40000, saving model to weights.hdf5\n",
      "6/6 [==============================] - 0s 14ms/step - loss: 1.8363 - accuracy: 0.4550 - val_loss: 1.8761 - val_accuracy: 0.4000\n",
      "Epoch 8/50\n",
      "1/6 [====>.........................] - ETA: 0s - loss: 1.8367 - accuracy: 0.4267\n",
      "Epoch 8: val_accuracy improved from 0.40000 to 0.42000, saving model to weights.hdf5\n",
      "6/6 [==============================] - 0s 13ms/step - loss: 1.7617 - accuracy: 0.4787 - val_loss: 1.8102 - val_accuracy: 0.4200\n",
      "Epoch 9/50\n",
      "1/6 [====>.........................] - ETA: 0s - loss: 1.7488 - accuracy: 0.5133\n",
      "Epoch 9: val_accuracy improved from 0.42000 to 0.44000, saving model to weights.hdf5\n",
      "6/6 [==============================] - 0s 13ms/step - loss: 1.6892 - accuracy: 0.5113 - val_loss: 1.7433 - val_accuracy: 0.4400\n",
      "Epoch 10/50\n",
      "1/6 [====>.........................] - ETA: 0s - loss: 1.7198 - accuracy: 0.4667\n",
      "Epoch 10: val_accuracy improved from 0.44000 to 0.44500, saving model to weights.hdf5\n",
      "6/6 [==============================] - 0s 13ms/step - loss: 1.6194 - accuracy: 0.5300 - val_loss: 1.6779 - val_accuracy: 0.4450\n",
      "Epoch 11/50\n",
      "1/6 [====>.........................] - ETA: 0s - loss: 1.5383 - accuracy: 0.5533\n",
      "Epoch 11: val_accuracy improved from 0.44500 to 0.48000, saving model to weights.hdf5\n",
      "6/6 [==============================] - 0s 14ms/step - loss: 1.5495 - accuracy: 0.5537 - val_loss: 1.6109 - val_accuracy: 0.4800\n",
      "Epoch 12/50\n",
      "1/6 [====>.........................] - ETA: 0s - loss: 1.5176 - accuracy: 0.5667\n",
      "Epoch 12: val_accuracy improved from 0.48000 to 0.50000, saving model to weights.hdf5\n",
      "6/6 [==============================] - 0s 13ms/step - loss: 1.4822 - accuracy: 0.5688 - val_loss: 1.5498 - val_accuracy: 0.5000\n",
      "Epoch 13/50\n",
      "1/6 [====>.........................] - ETA: 0s - loss: 1.3992 - accuracy: 0.6333\n",
      "Epoch 13: val_accuracy improved from 0.50000 to 0.52500, saving model to weights.hdf5\n",
      "6/6 [==============================] - 0s 14ms/step - loss: 1.4168 - accuracy: 0.5975 - val_loss: 1.4966 - val_accuracy: 0.5250\n",
      "Epoch 14/50\n",
      "1/6 [====>.........................] - ETA: 0s - loss: 1.4091 - accuracy: 0.5467\n",
      "Epoch 14: val_accuracy improved from 0.52500 to 0.54500, saving model to weights.hdf5\n",
      "6/6 [==============================] - 0s 14ms/step - loss: 1.3531 - accuracy: 0.6162 - val_loss: 1.4397 - val_accuracy: 0.5450\n",
      "Epoch 15/50\n",
      "1/6 [====>.........................] - ETA: 0s - loss: 1.2889 - accuracy: 0.6333\n",
      "Epoch 15: val_accuracy improved from 0.54500 to 0.56000, saving model to weights.hdf5\n",
      "6/6 [==============================] - 0s 14ms/step - loss: 1.2913 - accuracy: 0.6350 - val_loss: 1.3930 - val_accuracy: 0.5600\n",
      "Epoch 16/50\n",
      "1/6 [====>.........................] - ETA: 0s - loss: 1.3085 - accuracy: 0.6333\n",
      "Epoch 16: val_accuracy improved from 0.56000 to 0.58000, saving model to weights.hdf5\n",
      "6/6 [==============================] - 0s 14ms/step - loss: 1.2297 - accuracy: 0.6538 - val_loss: 1.3488 - val_accuracy: 0.5800\n",
      "Epoch 17/50\n",
      "1/6 [====>.........................] - ETA: 0s - loss: 1.2352 - accuracy: 0.5867\n",
      "Epoch 17: val_accuracy improved from 0.58000 to 0.59500, saving model to weights.hdf5\n",
      "6/6 [==============================] - 0s 13ms/step - loss: 1.1708 - accuracy: 0.6737 - val_loss: 1.3089 - val_accuracy: 0.5950\n",
      "Epoch 18/50\n",
      "1/6 [====>.........................] - ETA: 0s - loss: 1.1076 - accuracy: 0.7200\n",
      "Epoch 18: val_accuracy improved from 0.59500 to 0.61000, saving model to weights.hdf5\n",
      "6/6 [==============================] - 0s 13ms/step - loss: 1.1123 - accuracy: 0.7050 - val_loss: 1.2783 - val_accuracy: 0.6100\n",
      "Epoch 19/50\n",
      "1/6 [====>.........................] - ETA: 0s - loss: 1.1303 - accuracy: 0.6533\n",
      "Epoch 19: val_accuracy did not improve from 0.61000\n",
      "6/6 [==============================] - 0s 10ms/step - loss: 1.0561 - accuracy: 0.7138 - val_loss: 1.2392 - val_accuracy: 0.5950\n",
      "Epoch 20/50\n",
      "1/6 [====>.........................] - ETA: 0s - loss: 0.9805 - accuracy: 0.7400\n",
      "Epoch 20: val_accuracy did not improve from 0.61000\n",
      "6/6 [==============================] - 0s 10ms/step - loss: 1.0049 - accuracy: 0.7275 - val_loss: 1.2105 - val_accuracy: 0.6000\n",
      "Epoch 21/50\n",
      "1/6 [====>.........................] - ETA: 0s - loss: 1.0402 - accuracy: 0.7267\n",
      "Epoch 21: val_accuracy did not improve from 0.61000\n",
      "6/6 [==============================] - 0s 9ms/step - loss: 0.9466 - accuracy: 0.7475 - val_loss: 1.1889 - val_accuracy: 0.6050\n",
      "Epoch 22/50\n",
      "1/6 [====>.........................] - ETA: 0s - loss: 0.9388 - accuracy: 0.7200\n",
      "Epoch 22: val_accuracy improved from 0.61000 to 0.62000, saving model to weights.hdf5\n",
      "6/6 [==============================] - 0s 14ms/step - loss: 0.8966 - accuracy: 0.7713 - val_loss: 1.1637 - val_accuracy: 0.6200\n",
      "Epoch 23/50\n",
      "1/6 [====>.........................] - ETA: 0s - loss: 0.8457 - accuracy: 0.7733\n",
      "Epoch 23: val_accuracy did not improve from 0.62000\n",
      "6/6 [==============================] - 0s 9ms/step - loss: 0.8488 - accuracy: 0.7812 - val_loss: 1.1513 - val_accuracy: 0.6200\n",
      "Epoch 24/50\n",
      "1/6 [====>.........................] - ETA: 0s - loss: 0.8023 - accuracy: 0.8133\n",
      "Epoch 24: val_accuracy did not improve from 0.62000\n",
      "6/6 [==============================] - 0s 9ms/step - loss: 0.8002 - accuracy: 0.8012 - val_loss: 1.1363 - val_accuracy: 0.6150\n",
      "Epoch 25/50\n",
      "1/6 [====>.........................] - ETA: 0s - loss: 0.8245 - accuracy: 0.8200\n",
      "Epoch 25: val_accuracy improved from 0.62000 to 0.62500, saving model to weights.hdf5\n",
      "6/6 [==============================] - 0s 13ms/step - loss: 0.7546 - accuracy: 0.8175 - val_loss: 1.1304 - val_accuracy: 0.6250\n",
      "Epoch 26/50\n",
      "1/6 [====>.........................] - ETA: 0s - loss: 0.7042 - accuracy: 0.8267\n",
      "Epoch 26: val_accuracy did not improve from 0.62500\n",
      "6/6 [==============================] - 0s 9ms/step - loss: 0.7125 - accuracy: 0.8313 - val_loss: 1.1138 - val_accuracy: 0.6000\n",
      "Epoch 27/50\n",
      "1/6 [====>.........................] - ETA: 0s - loss: 0.7572 - accuracy: 0.8133\n",
      "Epoch 27: val_accuracy did not improve from 0.62500\n",
      "6/6 [==============================] - 0s 10ms/step - loss: 0.6724 - accuracy: 0.8438 - val_loss: 1.1017 - val_accuracy: 0.6100\n",
      "Epoch 28/50\n",
      "1/6 [====>.........................] - ETA: 0s - loss: 0.6431 - accuracy: 0.8600\n",
      "Epoch 28: val_accuracy did not improve from 0.62500\n",
      "6/6 [==============================] - 0s 9ms/step - loss: 0.6352 - accuracy: 0.8487 - val_loss: 1.1006 - val_accuracy: 0.6150\n"
     ]
    },
    {
     "name": "stdout",
     "output_type": "stream",
     "text": [
      "Epoch 29/50\n",
      "1/6 [====>.........................] - ETA: 0s - loss: 0.6436 - accuracy: 0.8467\n",
      "Epoch 29: val_accuracy improved from 0.62500 to 0.64000, saving model to weights.hdf5\n",
      "6/6 [==============================] - 0s 13ms/step - loss: 0.6011 - accuracy: 0.8562 - val_loss: 1.0967 - val_accuracy: 0.6400\n",
      "Epoch 30/50\n",
      "1/6 [====>.........................] - ETA: 0s - loss: 0.5233 - accuracy: 0.9000\n",
      "Epoch 30: val_accuracy improved from 0.64000 to 0.65000, saving model to weights.hdf5\n",
      "6/6 [==============================] - 0s 13ms/step - loss: 0.5664 - accuracy: 0.8662 - val_loss: 1.0803 - val_accuracy: 0.6500\n",
      "Epoch 31/50\n",
      "1/6 [====>.........................] - ETA: 0s - loss: 0.5267 - accuracy: 0.8467\n",
      "Epoch 31: val_accuracy did not improve from 0.65000\n",
      "6/6 [==============================] - 0s 9ms/step - loss: 0.5362 - accuracy: 0.8725 - val_loss: 1.0738 - val_accuracy: 0.6400\n",
      "Epoch 32/50\n",
      "1/6 [====>.........................] - ETA: 0s - loss: 0.5311 - accuracy: 0.8667\n",
      "Epoch 32: val_accuracy did not improve from 0.65000\n",
      "6/6 [==============================] - 0s 9ms/step - loss: 0.5096 - accuracy: 0.8775 - val_loss: 1.0670 - val_accuracy: 0.6350\n",
      "Epoch 33/50\n",
      "1/6 [====>.........................] - ETA: 0s - loss: 0.4631 - accuracy: 0.9000\n",
      "Epoch 33: val_accuracy improved from 0.65000 to 0.65500, saving model to weights.hdf5\n",
      "6/6 [==============================] - 0s 13ms/step - loss: 0.4784 - accuracy: 0.8850 - val_loss: 1.0674 - val_accuracy: 0.6550\n",
      "Epoch 34/50\n",
      "1/6 [====>.........................] - ETA: 0s - loss: 0.4561 - accuracy: 0.9133\n",
      "Epoch 34: val_accuracy improved from 0.65500 to 0.67000, saving model to weights.hdf5\n",
      "6/6 [==============================] - 0s 13ms/step - loss: 0.4549 - accuracy: 0.8888 - val_loss: 1.0505 - val_accuracy: 0.6700\n",
      "Epoch 35/50\n",
      "1/6 [====>.........................] - ETA: 0s - loss: 0.4619 - accuracy: 0.8733\n",
      "Epoch 35: val_accuracy improved from 0.67000 to 0.67500, saving model to weights.hdf5\n",
      "6/6 [==============================] - 0s 13ms/step - loss: 0.4286 - accuracy: 0.9038 - val_loss: 1.0542 - val_accuracy: 0.6750\n",
      "Epoch 36/50\n",
      "1/6 [====>.........................] - ETA: 0s - loss: 0.3979 - accuracy: 0.9200\n",
      "Epoch 36: val_accuracy did not improve from 0.67500\n",
      "6/6 [==============================] - 0s 10ms/step - loss: 0.4057 - accuracy: 0.9100 - val_loss: 1.0574 - val_accuracy: 0.6750\n",
      "Epoch 37/50\n",
      "1/6 [====>.........................] - ETA: 0s - loss: 0.3750 - accuracy: 0.9200\n",
      "Epoch 37: val_accuracy did not improve from 0.67500\n",
      "6/6 [==============================] - 0s 9ms/step - loss: 0.3836 - accuracy: 0.9200 - val_loss: 1.0614 - val_accuracy: 0.6750\n",
      "Epoch 38/50\n",
      "1/6 [====>.........................] - ETA: 0s - loss: 0.3918 - accuracy: 0.9133\n",
      "Epoch 38: val_accuracy did not improve from 0.67500\n",
      "6/6 [==============================] - 0s 9ms/step - loss: 0.3632 - accuracy: 0.9212 - val_loss: 1.0677 - val_accuracy: 0.6700\n",
      "Epoch 39/50\n",
      "1/6 [====>.........................] - ETA: 0s - loss: 0.3314 - accuracy: 0.9467\n",
      "Epoch 39: val_accuracy did not improve from 0.67500\n",
      "6/6 [==============================] - 0s 9ms/step - loss: 0.3433 - accuracy: 0.9275 - val_loss: 1.0642 - val_accuracy: 0.6700\n",
      "Epoch 40/50\n",
      "1/6 [====>.........................] - ETA: 0s - loss: 0.3168 - accuracy: 0.9267\n",
      "Epoch 40: val_accuracy did not improve from 0.67500\n",
      "6/6 [==============================] - 0s 9ms/step - loss: 0.3265 - accuracy: 0.9312 - val_loss: 1.0752 - val_accuracy: 0.6700\n",
      "Epoch 41/50\n",
      "1/6 [====>.........................] - ETA: 0s - loss: 0.2744 - accuracy: 0.9533\n",
      "Epoch 41: val_accuracy improved from 0.67500 to 0.68000, saving model to weights.hdf5\n",
      "6/6 [==============================] - 0s 14ms/step - loss: 0.3094 - accuracy: 0.9362 - val_loss: 1.0778 - val_accuracy: 0.6800\n",
      "Epoch 42/50\n",
      "1/6 [====>.........................] - ETA: 0s - loss: 0.2615 - accuracy: 0.9533\n",
      "Epoch 42: val_accuracy did not improve from 0.68000\n",
      "6/6 [==============================] - 0s 10ms/step - loss: 0.2941 - accuracy: 0.9362 - val_loss: 1.0706 - val_accuracy: 0.6750\n",
      "Epoch 43/50\n",
      "1/6 [====>.........................] - ETA: 0s - loss: 0.2612 - accuracy: 0.9533\n",
      "Epoch 43: val_accuracy improved from 0.68000 to 0.68500, saving model to weights.hdf5\n",
      "6/6 [==============================] - 0s 13ms/step - loss: 0.2813 - accuracy: 0.9400 - val_loss: 1.0789 - val_accuracy: 0.6850\n",
      "Epoch 44/50\n",
      "1/6 [====>.........................] - ETA: 0s - loss: 0.2344 - accuracy: 0.9533\n",
      "Epoch 44: val_accuracy improved from 0.68500 to 0.69000, saving model to weights.hdf5\n",
      "6/6 [==============================] - 0s 13ms/step - loss: 0.2671 - accuracy: 0.9450 - val_loss: 1.1067 - val_accuracy: 0.6900\n",
      "Epoch 45/50\n",
      "1/6 [====>.........................] - ETA: 0s - loss: 0.2756 - accuracy: 0.9333\n",
      "Epoch 45: val_accuracy did not improve from 0.69000\n",
      "6/6 [==============================] - 0s 9ms/step - loss: 0.2594 - accuracy: 0.9463 - val_loss: 1.1067 - val_accuracy: 0.6600\n",
      "Epoch 46/50\n",
      "1/6 [====>.........................] - ETA: 0s - loss: 0.2531 - accuracy: 0.9467\n",
      "Epoch 46: val_accuracy did not improve from 0.69000\n",
      "6/6 [==============================] - 0s 9ms/step - loss: 0.2454 - accuracy: 0.9450 - val_loss: 1.0975 - val_accuracy: 0.6650\n",
      "Epoch 47/50\n",
      "1/6 [====>.........................] - ETA: 0s - loss: 0.2114 - accuracy: 0.9533\n",
      "Epoch 47: val_accuracy did not improve from 0.69000\n",
      "6/6 [==============================] - 0s 9ms/step - loss: 0.2317 - accuracy: 0.9500 - val_loss: 1.1044 - val_accuracy: 0.6700\n",
      "Epoch 48/50\n",
      "1/6 [====>.........................] - ETA: 0s - loss: 0.1937 - accuracy: 0.9600\n",
      "Epoch 48: val_accuracy did not improve from 0.69000\n",
      "6/6 [==============================] - 0s 9ms/step - loss: 0.2212 - accuracy: 0.9500 - val_loss: 1.1315 - val_accuracy: 0.6850\n",
      "Epoch 49/50\n",
      "1/6 [====>.........................] - ETA: 0s - loss: 0.2707 - accuracy: 0.9133\n",
      "Epoch 49: val_accuracy did not improve from 0.69000\n",
      "6/6 [==============================] - 0s 10ms/step - loss: 0.2109 - accuracy: 0.9550 - val_loss: 1.1409 - val_accuracy: 0.6900\n",
      "Epoch 50/50\n",
      "1/6 [====>.........................] - ETA: 0s - loss: 0.2211 - accuracy: 0.9533\n",
      "Epoch 50: val_accuracy did not improve from 0.69000\n",
      "6/6 [==============================] - 0s 9ms/step - loss: 0.2016 - accuracy: 0.9575 - val_loss: 1.1296 - val_accuracy: 0.6850\n"
     ]
    }
   ],
   "source": [
    "checkpointer = ModelCheckpoint(filepath=\"weights.hdf5\", monitor = 'val_accuracy', verbose=1, save_best_only=True)\n",
    "\n",
    "history = model_lstm.fit(X_train, y_train, epochs=50, batch_size=150, \n",
    "                    callbacks = [checkpointer], validation_data=(X_test, y_test))"
   ]
  },
  {
   "cell_type": "code",
   "execution_count": 27,
   "id": "f07f6485",
   "metadata": {},
   "outputs": [],
   "source": [
    "model_lstm.save(\"LSTM.h5\")"
   ]
  },
  {
   "cell_type": "code",
   "execution_count": 28,
   "id": "b7a4152a",
   "metadata": {},
   "outputs": [
    {
     "name": "stdout",
     "output_type": "stream",
     "text": [
      "2/2 [==============================] - 0s 3ms/step - loss: 1.1296 - accuracy: 0.6850\n",
      "test_loss:  1.129555344581604\n",
      "test acc:  68.50000023841858\n"
     ]
    }
   ],
   "source": [
    "test_loss, test_acc = model_lstm.evaluate(X_test, y_test, batch_size=100)\n",
    "print('test_loss: ', test_loss)\n",
    "print('test acc: ', test_acc*100)"
   ]
  },
  {
   "cell_type": "code",
   "execution_count": 29,
   "id": "280e3aba",
   "metadata": {},
   "outputs": [
    {
     "data": {
      "image/png": "[encoded data removed]",
      "text/plain": [
       "<Figure size 432x288 with 2 Axes>"
      ]
     },
     "metadata": {
      "needs_background": "light"
     },
     "output_type": "display_data"
    }
   ],
   "source": [
    "from sklearn.metrics import ConfusionMatrixDisplay\n",
    "\n",
    "y_pred = model_lstm.predict(X_test)\n",
    "y_pred = np.argmax(y_pred, axis = 1)\n",
    "y_pred = le_3s.inverse_transform(y_pred)\n",
    "\n",
    "y_test_label = le_3s.inverse_transform(y_test)\n",
    "\n",
    "disp = ConfusionMatrixDisplay.from_predictions(y_test_label, y_pred, display_labels=le_3s.classes_,\n",
    "                                               xticks_rotation=\"vertical\", cmap=\"YlGn\")"
   ]
  },
  {
   "cell_type": "code",
   "execution_count": 30,
   "id": "e9705d85",
   "metadata": {},
   "outputs": [
    {
     "data": {
      "image/png": "[encoded data removed]",
      "text/plain": [
       "<Figure size 432x288 with 1 Axes>"
      ]
     },
     "metadata": {
      "needs_background": "light"
     },
     "output_type": "display_data"
    }
   ],
   "source": [
    "import matplotlib.pyplot as plt\n",
    "\n",
    "plt.subplots()\n",
    "plt.plot(history.history['accuracy'])\n",
    "plt.plot(history.history['val_accuracy'])\n",
    "plt.title('LSTM Accuracy')\n",
    "plt.ylabel('Accuracy')\n",
    "plt.xlabel('Epoch')\n",
    "plt.legend(['Train', 'Validation'])\n",
    "plt.show()"
   ]
  },
  {
   "cell_type": "code",
   "execution_count": 31,
   "id": "a35cc84d",
   "metadata": {},
   "outputs": [
    {
     "data": {
      "image/png": "[encoded data removed]",
      "text/plain": [
       "<Figure size 432x288 with 1 Axes>"
      ]
     },
     "metadata": {
      "needs_background": "light"
     },
     "output_type": "display_data"
    }
   ],
   "source": [
    "plt.subplots()\n",
    "plt.plot(history.history['loss'])\n",
    "plt.plot(history.history['val_loss'])\n",
    "plt.title('LSTM Loss')\n",
    "plt.ylabel('Loss')\n",
    "plt.xlabel('Epoch')\n",
    "plt.legend(['Train', 'Validation'])\n",
    "plt.show()"
   ]
  }
 ],
 "metadata": {
  "kernelspec": {
   "display_name": "Python 3 (ipykernel)",
   "language": "python",
   "name": "python3"
  },
  "language_info": {
   "codemirror_mode": {
    "name": "ipython",
    "version": 3
   },
   "file_extension": ".py",
   "mimetype": "text/x-python",
   "name": "python",
   "nbconvert_exporter": "python",
   "pygments_lexer": "ipython3",
   "version": "3.8.12"
  }
 },
 "nbformat": 4,
 "nbformat_minor": 5
}
